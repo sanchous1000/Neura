{
 "cells": [
  {
   "cell_type": "code",
   "execution_count": 10,
   "metadata": {},
   "outputs": [],
   "source": [
    "import pandas as pd\n",
    "from pathlib import Path\n",
    "from pymatgen.core import Structure\n",
    "from sklearn.model_selection import train_test_split\n",
    "import json\n",
    "\n",
    "def read_pymatgen_dict(file):\n",
    "    with open(file, \"r\") as f:\n",
    "        d = json.load(f)\n",
    "    return Structure.from_dict(d)\n",
    "\n",
    "def prepare_dataset(dataset_path):\n",
    "    dataset_path = Path(dataset_path)\n",
    "    targets = pd.read_csv(dataset_path / \"targets.csv\", index_col=0)\n",
    "    struct = {\n",
    "        item.name.strip(\".json\"): read_pymatgen_dict(item)\n",
    "        for item in (dataset_path / \"structures\").iterdir()\n",
    "    }\n",
    "\n",
    "    data = pd.DataFrame(columns=[\"structures\"], index=struct.keys())\n",
    "    data = data.assign(structures=struct.values(), targets=targets)\n",
    "\n",
    "    return data"
   ]
  },
  {
   "cell_type": "code",
   "execution_count": 11,
   "metadata": {},
   "outputs": [],
   "source": [
    "data = prepare_dataset(r'C:\\Users\\Aleks\\Documents\\Neura\\lab6\\dichalcogenides_public')"
   ]
  },
  {
   "cell_type": "code",
   "execution_count": 12,
   "metadata": {},
   "outputs": [],
   "source": [
    "import numpy as np\n",
    "from pymatgen.core import Structure, Element\n",
    "\n",
    "def structure_to_graph_np_fast(structure,target ,  cutoff=4.0):\n",
    "    sites = structure.sites\n",
    "    N = len(sites)\n",
    "    X_list = []\n",
    "    for site in sites:\n",
    "        if hasattr(site.specie, \"element\"):\n",
    "            elem = site.specie.element\n",
    "        else:\n",
    "            elem = site.specie\n",
    "\n",
    "        Z = elem.Z\n",
    "        X_electroneg = elem.X if elem.X is not None else 0.0\n",
    "        amass = elem.atomic_mass if elem.atomic_mass is not None else 0.0\n",
    "        row = elem.row if elem.row is not None else 0\n",
    "        group = elem.group if elem.group is not None else 0\n",
    "        aradius = elem.atomic_radius if elem.atomic_radius is not None else 0.0\n",
    "\n",
    "        node_feat = [Z, X_electroneg, amass, row, group, aradius]\n",
    "        X_list.append(node_feat)\n",
    "\n",
    "    X = np.array(X_list, dtype=np.float32)  \n",
    "\n",
    "    if N == 0:\n",
    "        return X, np.zeros((0, 0), dtype=np.float32)\n",
    "\n",
    "    dmat = structure.distance_matrix  \n",
    "    adj_mask = (dmat <= cutoff).astype(np.float32)\n",
    "    np.fill_diagonal(adj_mask, 0.0)\n",
    "    A = adj_mask  \n",
    "    return X, A, target\n",
    "\n",
    "\n",
    "def make_pyg_dataset(df, cutoff=4):\n",
    "    pyg_list = []\n",
    "    for _, row in df.iterrows():\n",
    "        structure = row[\"structures\"]\n",
    "        target = row[\"targets\"]\n",
    "        data = structure_to_graph_np_fast(structure,  target,  cutoff=cutoff) \n",
    "        pyg_list.append(data)\n",
    "    return pyg_list\n",
    "\n",
    "train_dataset = make_pyg_dataset(data, cutoff = 4)\n",
    "\n",
    "\n"
   ]
  },
  {
   "cell_type": "code",
   "execution_count": 13,
   "metadata": {},
   "outputs": [],
   "source": [
    "train, test = train_dataset[: round(len(train_dataset)*0.8)] , train_dataset[round(len(train_dataset)*0.8):]"
   ]
  },
  {
   "cell_type": "code",
   "execution_count": 16,
   "metadata": {},
   "outputs": [
    {
     "data": {
      "text/plain": [
       "[<matplotlib.lines.Line2D at 0x215e5fd2f10>]"
      ]
     },
     "execution_count": 16,
     "metadata": {},
     "output_type": "execute_result"
    },
    {
     "data": {
      "image/png": "[encoded data removed]",
      "text/plain": [
       "<Figure size 640x480 with 1 Axes>"
      ]
     },
     "metadata": {},
     "output_type": "display_data"
    }
   ],
   "source": [
    "import matplotlib.pyplot as plt\n",
    "import numpy as np\n",
    "from gnn import Gap, GraphConv, GNN\n",
    "layers = [\n",
    "    GraphConv(6, 3),\n",
    "    GraphConv(3, 2),\n",
    "    Gap(2, 1)\n",
    "]\n",
    "\n",
    "mse_l = [] \n",
    "gnn = GNN(layers)\n",
    "\n",
    "num_epochs = 50\n",
    "for epoch in range(num_epochs):\n",
    "    ms = 0.0\n",
    "    for i in range(len(train)):\n",
    "        x, adj, y_true = train[i]\n",
    "        y_pred = gnn.forward(x, adj)\n",
    "        ms += (y_pred - y_true)**2\n",
    "        dh = 2.0 * (y_pred - y_true)\n",
    "        gnn.backward(dh)\n",
    "        gnn.update_params(lr = 0.001)\n",
    "    mse_val_train = ms / len(train)\n",
    "    mse_l.append(mse_val_train)\n",
    "\n",
    "\n",
    "plt.plot(mse_l)\n"
   ]
  },
  {
   "cell_type": "code",
   "execution_count": 18,
   "metadata": {},
   "outputs": [
    {
     "name": "stdout",
     "output_type": "stream",
     "text": [
      "MSE = 0.0148\n",
      "MAE = 0.0810\n",
      "R^2 = 0.9115\n"
     ]
    }
   ],
   "source": [
    "from sklearn.metrics import r2_score, mean_absolute_error, mean_squared_error\n",
    "def compute_metrics(y_true, y_pred):\n",
    "    y_true = np.array(y_true)\n",
    "    y_pred = np.array(y_pred)\n",
    "    mse_val = mean_squared_error(y_true, y_pred)\n",
    "    mae_val = mean_absolute_error(y_true, y_pred)\n",
    "    r2_val = r2_score(y_true, y_pred)\n",
    "    return mse_val, mae_val, r2_val\n",
    "\n",
    "all_y_true = []\n",
    "all_y_pred = []\n",
    "\n",
    "for i in range(len(test)):\n",
    "    x_test, adj_test, y_test = test[i]\n",
    "    pred_test = gnn.forward(x_test, adj_test)\n",
    "    \n",
    "    all_y_true.append(y_test)\n",
    "    all_y_pred.append(pred_test)\n",
    "\n",
    "\n",
    "test_mse, test_mae, test_r2 = compute_metrics(all_y_true, all_y_pred)\n",
    "\n",
    "print(f\"MSE = {test_mse:.4f}\")\n",
    "print(f\"MAE = {test_mae:.4f}\")\n",
    "print(f\"R^2 = {test_r2:.4f}\")\n"
   ]
  },
  {
   "cell_type": "code",
   "execution_count": null,
   "metadata": {},
   "outputs": [],
   "source": []
  }
 ],
 "metadata": {
  "kernelspec": {
   "display_name": "neura",
   "language": "python",
   "name": "python3"
  },
  "language_info": {
   "codemirror_mode": {
    "name": "ipython",
    "version": 3
   },
   "file_extension": ".py",
   "mimetype": "text/x-python",
   "name": "python",
   "nbconvert_exporter": "python",
   "pygments_lexer": "ipython3",
   "version": "3.9.19"
  }
 },
 "nbformat": 4,
 "nbformat_minor": 2
}
