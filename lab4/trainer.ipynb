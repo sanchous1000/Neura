{
 "cells": [
  {
   "cell_type": "code",
   "execution_count": 2,
   "metadata": {},
   "outputs": [],
   "source": [
    "from activations import LeakyRelu, Tanh, Sigmoid\n",
    "\n",
    "l = [LeakyRelu()]"
   ]
  },
  {
   "cell_type": "code",
   "execution_count": 12,
   "metadata": {},
   "outputs": [
    {
     "name": "stdout",
     "output_type": "stream",
     "text": [
      "True\n"
     ]
    }
   ],
   "source": [
    "for i in l:\n",
    "    print('activations' in   \"\"\"<class 'activations.LeakyRelu'>\"\"\" )"
   ]
  },
  {
   "cell_type": "code",
   "execution_count": null,
   "metadata": {},
   "outputs": [
    {
     "name": "stdout",
     "output_type": "stream",
     "text": [
      "Epoch 1/50 - VAE Loss: 32637916.8000, GAN Loss: 0.0000, KL Loss: 137.9643\n",
      "Epoch 2/50 - VAE Loss: 32607909.5054, GAN Loss: 0.0000, KL Loss: 2266.1202\n",
      "Epoch 3/50 - VAE Loss: 32612988.8535, GAN Loss: 0.0000, KL Loss: 7345.4683\n",
      "Epoch 4/50 - VAE Loss: 32620985.3628, GAN Loss: 0.0000, KL Loss: 15341.9776\n",
      "Epoch 5/50 - VAE Loss: 32632039.0455, GAN Loss: 0.0000, KL Loss: 26395.6603\n",
      "Epoch 6/50 - VAE Loss: 32645893.5808, GAN Loss: 0.0000, KL Loss: 40250.1956\n",
      "Epoch 7/50 - VAE Loss: 32662507.3038, GAN Loss: 0.0000, KL Loss: 56863.9186\n",
      "Epoch 8/50 - VAE Loss: 32681698.8035, GAN Loss: 0.0000, KL Loss: 76055.4183\n",
      "Epoch 9/50 - VAE Loss: 32703346.2760, GAN Loss: 0.0000, KL Loss: 97702.8908\n",
      "Epoch 10/50 - VAE Loss: 32727375.5095, GAN Loss: 0.0000, KL Loss: 121732.1243\n",
      "Epoch 11/50 - VAE Loss: 32753734.5825, GAN Loss: 0.0000, KL Loss: 148091.1973\n",
      "Epoch 12/50 - VAE Loss: 32782385.2706, GAN Loss: 0.0000, KL Loss: 176741.8854\n",
      "Epoch 13/50 - VAE Loss: 32813298.4080, GAN Loss: 0.0000, KL Loss: 207655.0228\n",
      "Epoch 14/50 - VAE Loss: 32846450.7864, GAN Loss: 0.0000, KL Loss: 240807.4012\n",
      "Epoch 15/50 - VAE Loss: 32881823.4871, GAN Loss: 0.0000, KL Loss: 276180.1019\n",
      "Epoch 16/50 - VAE Loss: 32919400.8183, GAN Loss: 0.0000, KL Loss: 313757.4331\n",
      "Epoch 17/50 - VAE Loss: 32959169.6116, GAN Loss: 0.0000, KL Loss: 353526.2264\n",
      "Epoch 18/50 - VAE Loss: 33001118.7670, GAN Loss: 0.0000, KL Loss: 395475.3818\n",
      "Epoch 19/50 - VAE Loss: 33045238.9027, GAN Loss: 0.0000, KL Loss: 439595.5175\n",
      "Epoch 20/50 - VAE Loss: 33091521.9945, GAN Loss: 0.0000, KL Loss: 485878.6093\n",
      "Epoch 21/50 - VAE Loss: 33139960.5949, GAN Loss: 0.0000, KL Loss: 534317.2097\n",
      "Epoch 22/50 - VAE Loss: 33190546.4365, GAN Loss: 0.0000, KL Loss: 584903.0513\n",
      "Epoch 23/50 - VAE Loss: 33243269.3564, GAN Loss: 0.0000, KL Loss: 637625.9711\n",
      "Epoch 24/50 - VAE Loss: 33298116.9227, GAN Loss: 0.0000, KL Loss: 692473.5375\n",
      "Epoch 25/50 - VAE Loss: 33355077.7003, GAN Loss: 0.0000, KL Loss: 749434.3151\n",
      "Epoch 26/50 - VAE Loss: 33414151.3007, GAN Loss: 0.0000, KL Loss: 808507.9155\n",
      "Epoch 27/50 - VAE Loss: 33475343.2014, GAN Loss: 0.0000, KL Loss: 869699.8162\n",
      "Epoch 28/50 - VAE Loss: 33538653.8023, GAN Loss: 0.0000, KL Loss: 933010.4171\n",
      "Epoch 29/50 - VAE Loss: 33604097.0413, GAN Loss: 0.0000, KL Loss: 998453.6561\n",
      "Epoch 30/50 - VAE Loss: 33671681.3382, GAN Loss: 0.0000, KL Loss: 1066037.9530\n",
      "Epoch 31/50 - VAE Loss: 33741393.6311, GAN Loss: 0.0000, KL Loss: 1135750.2458\n",
      "Epoch 32/50 - VAE Loss: 33813223.1577, GAN Loss: 0.0000, KL Loss: 1207579.7725\n",
      "Epoch 33/50 - VAE Loss: 33887166.1367, GAN Loss: 0.0000, KL Loss: 1281522.7515\n",
      "Epoch 34/50 - VAE Loss: 33963221.1376, GAN Loss: 0.0000, KL Loss: 1357577.7524\n",
      "Epoch 35/50 - VAE Loss: 34041387.3276, GAN Loss: 0.0000, KL Loss: 1435743.9424\n",
      "Epoch 36/50 - VAE Loss: 34121664.0732, GAN Loss: 0.0000, KL Loss: 1516020.6879\n",
      "Epoch 37/50 - VAE Loss: 34204050.7709, GAN Loss: 0.0000, KL Loss: 1598407.3857\n",
      "Epoch 38/50 - VAE Loss: 34288546.6737, GAN Loss: 0.0000, KL Loss: 1682903.2885\n",
      "Epoch 39/50 - VAE Loss: 34375150.7165, GAN Loss: 0.0000, KL Loss: 1769507.3313\n",
      "Epoch 40/50 - VAE Loss: 34463861.4199, GAN Loss: 0.0000, KL Loss: 1858218.0347\n",
      "Epoch 41/50 - VAE Loss: 34554676.9088, GAN Loss: 0.0000, KL Loss: 1949033.5235\n",
      "Epoch 42/50 - VAE Loss: 34647594.9718, GAN Loss: 0.0000, KL Loss: 2041951.5866\n",
      "Epoch 43/50 - VAE Loss: 34742613.0444, GAN Loss: 0.0000, KL Loss: 2136969.6592\n",
      "Epoch 44/50 - VAE Loss: 34839728.0746, GAN Loss: 0.0000, KL Loss: 2234084.6893\n",
      "Epoch 45/50 - VAE Loss: 34938936.2855, GAN Loss: 0.0000, KL Loss: 2333292.9003\n",
      "Epoch 46/50 - VAE Loss: 35040232.8674, GAN Loss: 0.0000, KL Loss: 2434589.4821\n",
      "Epoch 47/50 - VAE Loss: 35143611.6650, GAN Loss: 0.0000, KL Loss: 2537968.2798\n",
      "Epoch 48/50 - VAE Loss: 35249065.0834, GAN Loss: 0.0000, KL Loss: 2643421.6982\n"
     ]
    }
   ],
   "source": [
    "\n",
    "from VAE import Encoder, Decoder, Discriminator, VAEGANTrainer\n",
    "from tensorflow.keras.datasets import mnist\n",
    "import numpy as np\n",
    "# Инициализация\n",
    "# Инициализация\n",
    "# Подготовка данных\n",
    "def preprocess_data(x):\n",
    "    x = x.astype('float32') / 255.0\n",
    "    return x.reshape(x.shape[0], -1)\n",
    "\n",
    "# Загрузка данных MNIST\n",
    "(x_train, _), (x_test, _) = mnist.load_data()\n",
    "x_train = preprocess_data(x_train)\n",
    "\n",
    "# Инициализация моделей\n",
    "encoder = Encoder()\n",
    "decoder = Decoder()\n",
    "\n",
    "# Обучение\n",
    "trainer = VAEGANTrainer(encoder, decoder, learning_rate=1e-4)\n",
    "trainer.train(x_train, batch_size=128, epochs=50)\n"
   ]
  },
  {
   "cell_type": "code",
   "execution_count": null,
   "metadata": {},
   "outputs": [
    {
     "name": "stdout",
     "output_type": "stream",
     "text": [
      "dout shape: (128, 784), self.a_l shape: (128, 1024)\n",
      "dout shape: (128, 1024), self.a_l shape: (128, 1024)\n",
      "dout shape: (128, 1024), self.a_l shape: (128, 1024)\n",
      "dout shape: (128, 1024), self.a_l shape: (128, 20)\n"
     ]
    },
    {
     "data": {
      "text/plain": [
       "array([[-0.24108571, -1.40441918,  1.82737838, ..., -2.78602793,\n",
       "        -2.71201002, -3.79868253],\n",
       "       [ 1.91138255,  2.94798126, -3.89004005, ..., -2.00948048,\n",
       "        -0.07226309,  0.03223549],\n",
       "       [ 0.43435469,  0.75003593,  0.22564978, ...,  1.34240311,\n",
       "        -2.86358409,  0.20198908],\n",
       "       ...,\n",
       "       [ 3.65323809, -2.95481143,  0.89444766, ...,  0.03137546,\n",
       "        -1.8165209 ,  0.94955529],\n",
       "       [ 0.89875342, -0.08134535,  3.45471377, ..., -0.54956157,\n",
       "        -9.22691528,  3.7789225 ],\n",
       "       [ 2.94259757, -2.44156705,  0.5699836 , ..., -0.17115144,\n",
       "         2.22437951, -3.96161648]])"
      ]
     },
     "execution_count": 3,
     "metadata": {},
     "output_type": "execute_result"
    }
   ],
   "source": [
    "def plot_latent_space(model, scale=1.0, n=25, digit_size=28, figsize=15):\n",
    "    # display a n*n 2D manifold of digits\n",
    "    figure = np.zeros((digit_size * n, digit_size * n))\n",
    "\n",
    "    # construct a grid \n",
    "    grid_x = np.linspace(-scale, scale, n)\n",
    "    grid_y = np.linspace(-scale, scale, n)[::-1]\n",
    "\n",
    "    for i, yi in enumerate(grid_y):\n",
    "        for j, xi in enumerate(grid_x):\n",
    "            z_sample = torch.tensor([[xi, yi]], dtype=torch.float).to(device)\n",
    "            x_decoded = model.decode(z_sample)\n",
    "            digit = x_decoded[0].detach().cpu().reshape(digit_size, digit_size)\n",
    "            figure[i * digit_size : (i + 1) * digit_size, j * digit_size : (j + 1) * digit_size,] = digit\n",
    "\n",
    "    plt.figure(figsize=(figsize, figsize))\n",
    "    plt.title('VAE Latent Space Visualization')\n",
    "    start_range = digit_size // 2\n",
    "    end_range = n * digit_size + start_range\n",
    "    pixel_range = np.arange(start_range, end_range, digit_size)\n",
    "    sample_range_x = np.round(grid_x, 1)\n",
    "    sample_range_y = np.round(grid_y, 1)\n",
    "    plt.xticks(pixel_range, sample_range_x)\n",
    "    plt.yticks(pixel_range, sample_range_y)\n",
    "    plt.xlabel(\"mean, z [0]\")\n",
    "    plt.ylabel(\"var, z [1]\")\n",
    "    plt.imshow(figure, cmap=\"Greys_r\")\n",
    "    plt.show()\n",
    "\n",
    "\n",
    "plot_latent_space(model)"
   ]
  },
  {
   "cell_type": "code",
   "execution_count": 5,
   "metadata": {},
   "outputs": [
    {
     "data": {
      "text/plain": [
       "(128, 784)"
      ]
     },
     "execution_count": 5,
     "metadata": {},
     "output_type": "execute_result"
    }
   ],
   "source": [
    "ps.shape"
   ]
  }
 ],
 "metadata": {
  "kernelspec": {
   "display_name": "base",
   "language": "python",
   "name": "python3"
  },
  "language_info": {
   "codemirror_mode": {
    "name": "ipython",
    "version": 3
   },
   "file_extension": ".py",
   "mimetype": "text/x-python",
   "name": "python",
   "nbconvert_exporter": "python",
   "pygments_lexer": "ipython3",
   "version": "3.12.4"
  }
 },
 "nbformat": 4,
 "nbformat_minor": 2
}
