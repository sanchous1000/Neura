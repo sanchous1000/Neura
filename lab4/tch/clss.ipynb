{
 "cells": [
  {
   "cell_type": "code",
   "execution_count": null,
   "metadata": {},
   "outputs": [],
   "source": [
    "from VAE import Encoder, Decoder, Discriminator, VAEGANTrainer\n",
    "from tensorflow.keras.datasets import mnist\n",
    "import numpy as np\n",
    "import torch\n",
    "# Инициализация\n",
    "# Инициализация\n",
    "# Подготовка данных\n",
    "def preprocess_data(x):\n",
    "    x = x.astype('float32') / 255.0\n",
    "    return x.reshape(x.shape[0], -1)\n",
    "\n",
    "# Загрузка данных MNIST\n",
    "(x_train, _), (x_test, _) = mnist.load_data()\n",
    "x_train = preprocess_data(x_train)\n"
   ]
  },
  {
   "cell_type": "code",
   "execution_count": null,
   "metadata": {},
   "outputs": [],
   "source": [
    "from main_tch import VAE, Discriminator, train_vae_gan\n",
    "\n",
    "if __name__ == \"__main__\":\n",
    "    # Device configuration\n",
    "device = torch.device(\"cuda\" if torch.cuda.is_available() else \"cpu\")\n",
    "\n",
    "# Load MNIST dataset\n",
    "transform = transforms.Compose([transforms.ToTensor(), transforms.Lambda(lambda x: x.view(-1))])\n",
    "mnist_train = datasets.MNIST(root=\"./data\", train=True, transform=transform, download=True)\n",
    "train_loader = DataLoader(mnist_train, batch_size=64, shuffle=True)\n",
    "\n",
    "# Model parameters\n",
    "input_dim = 28 * 28  # MNIST images are 28x28\n",
    "latent_dim = 20\n",
    "\n",
    "# Initialize models\n",
    "vae = VAE(input_dim, latent_dim).to(device)\n",
    "discriminator = Discriminator(input_dim).to(device)\n",
    "\n",
    "# Optimizers\n",
    "vae_optimizer = optim.Adam(vae.parameters(), lr=1e-3)\n",
    "disc_optimizer = optim.Adam(discriminator.parameters(), lr=1e-3)\n",
    "\n",
    "# Train models\n",
    "num_epochs = 10\n",
    "train_vae_gan(train_loader, vae, discriminator, vae_optimizer, disc_optimizer, num_epochs, device)\n"
   ]
  }
 ],
 "metadata": {
  "language_info": {
   "name": "python"
  }
 },
 "nbformat": 4,
 "nbformat_minor": 2
}
