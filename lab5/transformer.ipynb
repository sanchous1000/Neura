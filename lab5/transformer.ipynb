{
 "cells": [
  {
   "cell_type": "code",
   "execution_count": 5,
   "metadata": {},
   "outputs": [
    {
     "name": "stderr",
     "output_type": "stream",
     "text": [
      "100%|██████████| 179/179 [08:36<00:00,  2.88s/it]\n"
     ]
    },
    {
     "name": "stdout",
     "output_type": "stream",
     "text": [
      "Epoch 1/20, Loss: 138.1483\n"
     ]
    },
    {
     "name": "stderr",
     "output_type": "stream",
     "text": [
      "100%|██████████| 179/179 [08:36<00:00,  2.89s/it]\n"
     ]
    },
    {
     "name": "stdout",
     "output_type": "stream",
     "text": [
      "Epoch 2/20, Loss: 119.0002\n"
     ]
    },
    {
     "name": "stderr",
     "output_type": "stream",
     "text": [
      "100%|██████████| 179/179 [08:32<00:00,  2.87s/it]\n"
     ]
    },
    {
     "name": "stdout",
     "output_type": "stream",
     "text": [
      "Epoch 3/20, Loss: 106.9395\n"
     ]
    },
    {
     "name": "stderr",
     "output_type": "stream",
     "text": [
      "100%|██████████| 179/179 [08:40<00:00,  2.91s/it]\n"
     ]
    },
    {
     "name": "stdout",
     "output_type": "stream",
     "text": [
      "Epoch 4/20, Loss: 99.0812\n"
     ]
    },
    {
     "name": "stderr",
     "output_type": "stream",
     "text": [
      "100%|██████████| 179/179 [08:29<00:00,  2.85s/it]\n"
     ]
    },
    {
     "name": "stdout",
     "output_type": "stream",
     "text": [
      "Epoch 5/20, Loss: 92.9038\n"
     ]
    },
    {
     "name": "stderr",
     "output_type": "stream",
     "text": [
      "100%|██████████| 179/179 [08:37<00:00,  2.89s/it]\n"
     ]
    },
    {
     "name": "stdout",
     "output_type": "stream",
     "text": [
      "Epoch 6/20, Loss: 88.8351\n"
     ]
    },
    {
     "name": "stderr",
     "output_type": "stream",
     "text": [
      "100%|██████████| 179/179 [08:32<00:00,  2.86s/it]\n"
     ]
    },
    {
     "name": "stdout",
     "output_type": "stream",
     "text": [
      "Epoch 7/20, Loss: 85.4898\n"
     ]
    },
    {
     "name": "stderr",
     "output_type": "stream",
     "text": [
      "100%|██████████| 179/179 [08:44<00:00,  2.93s/it]\n"
     ]
    },
    {
     "name": "stdout",
     "output_type": "stream",
     "text": [
      "Epoch 8/20, Loss: 82.9364\n"
     ]
    },
    {
     "name": "stderr",
     "output_type": "stream",
     "text": [
      "100%|██████████| 179/179 [08:35<00:00,  2.88s/it]\n"
     ]
    },
    {
     "name": "stdout",
     "output_type": "stream",
     "text": [
      "Epoch 9/20, Loss: 80.9422\n"
     ]
    },
    {
     "name": "stderr",
     "output_type": "stream",
     "text": [
      "100%|██████████| 179/179 [08:41<00:00,  2.91s/it]\n"
     ]
    },
    {
     "name": "stdout",
     "output_type": "stream",
     "text": [
      "Epoch 10/20, Loss: 79.4339\n"
     ]
    },
    {
     "name": "stderr",
     "output_type": "stream",
     "text": [
      "100%|██████████| 179/179 [08:36<00:00,  2.89s/it]\n"
     ]
    },
    {
     "name": "stdout",
     "output_type": "stream",
     "text": [
      "Epoch 11/20, Loss: 78.0266\n"
     ]
    },
    {
     "name": "stderr",
     "output_type": "stream",
     "text": [
      "100%|██████████| 179/179 [08:41<00:00,  2.91s/it]\n"
     ]
    },
    {
     "name": "stdout",
     "output_type": "stream",
     "text": [
      "Epoch 12/20, Loss: 76.8643\n"
     ]
    },
    {
     "name": "stderr",
     "output_type": "stream",
     "text": [
      "100%|██████████| 179/179 [08:35<00:00,  2.88s/it]\n"
     ]
    },
    {
     "name": "stdout",
     "output_type": "stream",
     "text": [
      "Epoch 13/20, Loss: 75.9059\n"
     ]
    },
    {
     "name": "stderr",
     "output_type": "stream",
     "text": [
      "100%|██████████| 179/179 [08:40<00:00,  2.91s/it]\n"
     ]
    },
    {
     "name": "stdout",
     "output_type": "stream",
     "text": [
      "Epoch 14/20, Loss: 75.0090\n"
     ]
    },
    {
     "name": "stderr",
     "output_type": "stream",
     "text": [
      "100%|██████████| 179/179 [08:45<00:00,  2.94s/it]\n"
     ]
    },
    {
     "name": "stdout",
     "output_type": "stream",
     "text": [
      "Epoch 15/20, Loss: 74.3475\n"
     ]
    },
    {
     "name": "stderr",
     "output_type": "stream",
     "text": [
      "100%|██████████| 179/179 [08:34<00:00,  2.88s/it]\n"
     ]
    },
    {
     "name": "stdout",
     "output_type": "stream",
     "text": [
      "Epoch 16/20, Loss: 73.4947\n"
     ]
    },
    {
     "name": "stderr",
     "output_type": "stream",
     "text": [
      "100%|██████████| 179/179 [08:41<00:00,  2.91s/it]\n"
     ]
    },
    {
     "name": "stdout",
     "output_type": "stream",
     "text": [
      "Epoch 17/20, Loss: 73.0281\n"
     ]
    },
    {
     "name": "stderr",
     "output_type": "stream",
     "text": [
      "100%|██████████| 179/179 [08:35<00:00,  2.88s/it]\n"
     ]
    },
    {
     "name": "stdout",
     "output_type": "stream",
     "text": [
      "Epoch 18/20, Loss: 72.4483\n"
     ]
    },
    {
     "name": "stderr",
     "output_type": "stream",
     "text": [
      "100%|██████████| 179/179 [08:36<00:00,  2.89s/it]\n"
     ]
    },
    {
     "name": "stdout",
     "output_type": "stream",
     "text": [
      "Epoch 19/20, Loss: 72.1029\n"
     ]
    },
    {
     "name": "stderr",
     "output_type": "stream",
     "text": [
      "100%|██████████| 179/179 [08:37<00:00,  2.89s/it]"
     ]
    },
    {
     "name": "stdout",
     "output_type": "stream",
     "text": [
      "Epoch 20/20, Loss: 71.4843\n"
     ]
    },
    {
     "name": "stderr",
     "output_type": "stream",
     "text": [
      "\n"
     ]
    }
   ],
   "source": [
    "from ceras import SentimentEncoder\n",
    "\n",
    "import pandas as pd\n",
    "import numpy as np\n",
    "from sklearn.model_selection import train_test_split\n",
    "\n",
    "\n",
    "\n",
    "def binary_cross_entropy_loss(y_true, y_pred):\n",
    "    \"\"\"\n",
    "    Кросс-энтропийный лосс для бинарной классификации с softmax.\n",
    "    \n",
    "    Args:\n",
    "        y_true: Истинные метки (0 или 1), форма (batch_size, ).\n",
    "        y_pred: Предсказанные вероятности, форма (batch_size, 2).\n",
    "        \n",
    "    Returns:\n",
    "        Средний лосс по батчу.\n",
    "    \"\"\"\n",
    "    # Выбираем вероятность положительного класса (p_1)\n",
    "    p1 = y_pred \n",
    "    loss = -np.mean(y_true * np.log(p1 + 1e-8) + (1 - y_true) * np.log(1 - p1 + 1e-8))\n",
    "    return loss\n",
    "\n",
    "\n",
    "data = pd.read_csv(r'C:\\Users\\Aleks\\Documents\\Neura\\lab5\\russian_comments_from_2ch_pikabu.csv')\n",
    "data['tok_len'] = [len(tokenizer(i)['input_ids']) for i in data.comment]\n",
    "data = data[data.tok_len < 450]\n",
    "\n",
    "mas = np.zeros((len(data),2))\n",
    "for i, v in enumerate(data.toxic):\n",
    "    mas[i,int(v)] = 1\n",
    "\n",
    "X_train, X_test, y_train, y_test = train_test_split(data['comment'], mas,  train_size = 0.8)\n",
    "from tqdm import tqdm\n",
    "import cupy as np\n",
    "\n",
    "\n",
    "# Инициализация модели\n",
    "n_emb = 312  # размер эмбеддингов\n",
    "n_heads = 2  # число голов\n",
    "output_classes = 2  # бинарная классификация\n",
    "block_size = 312\n",
    "batch_size = 64\n",
    "epochs = 20\n",
    "\n",
    "model = SentimentEncoder(n_emb=n_emb, n_head =n_heads, output_classes=output_classes)\n",
    "\n",
    "\n",
    "# Токенизация данных перед обучением\n",
    "X_train = list(X_train)\n",
    "y_train_gpu = np.array(y_train, dtype=np.float32)  # Метки переводим на GPU\n",
    "\n",
    "for epoch in range(epochs):\n",
    "    total_loss = 0\n",
    "    indices = np.arange(len(X_train))\n",
    "    np.random.shuffle(indices)\n",
    "\n",
    "    for batch_start in tqdm(range(0, len(X_train), batch_size)):\n",
    "        batch_end = batch_start + batch_size\n",
    "        batch_indices = indices[batch_start:batch_end].get()  # Преобразуем индексы для использования с PyTorch\n",
    "        \n",
    "        # Формируем батч\n",
    "        X_batch = [X_train[idx] for idx in batch_indices]\n",
    "        y_batch = y_train_gpu[batch_indices]\n",
    "\n",
    "        # Токенизация текста\n",
    "        inputs = tokenizer(X_batch, padding=True, truncation=True, max_length=block_size, return_tensors=\"pt\")\n",
    "        \n",
    "        # Forward pass через предобученную модель\n",
    "        outputs = model_pre(**inputs)\n",
    "        text_embeddings = np.array(outputs.last_hidden_state.detach().cpu().numpy())  # GPU embeddings\n",
    "        \n",
    "        # Forward pass через кастомную модель\n",
    "        logits = np.array(model.forward(text_embeddings))\n",
    "        loss = binary_cross_entropy_loss(y_batch, logits)\n",
    "        total_loss += loss.get() \n",
    "\n",
    "        # Backward pass\n",
    "        model.backward(logits, y_batch)\n",
    "        model.update_params(lr=1e-6)\n",
    "    train_loss.append(total_loss)\n",
    "\n",
    "    print(f\"Epoch {epoch + 1}/{epochs}, Loss: {total_loss:.4f}\")\n"
   ]
  },
  {
   "cell_type": "code",
   "execution_count": 26,
   "metadata": {},
   "outputs": [
    {
     "data": {
      "text/plain": [
       "[<matplotlib.lines.Line2D at 0x1b84c878b20>]"
      ]
     },
     "execution_count": 26,
     "metadata": {},
     "output_type": "execute_result"
    },
    {
     "data": {
      "image/png": "[encoded data removed]",
      "text/plain": [
       "<Figure size 640x480 with 1 Axes>"
      ]
     },
     "metadata": {},
     "output_type": "display_data"
    }
   ],
   "source": [
    "import matplotlib.pyplot as plt\n",
    "\n",
    "plt.plot(train_loss)"
   ]
  },
  {
   "cell_type": "code",
   "execution_count": 81,
   "metadata": {},
   "outputs": [
    {
     "name": "stdout",
     "output_type": "stream",
     "text": [
      "Средняя точность: 0.8139626907857548\n"
     ]
    }
   ],
   "source": [
    "import torch\n",
    "from sklearn.metrics import accuracy_score\n",
    "import numpy  \n",
    "import cupy as cp  \n",
    "\n",
    "\n",
    "batch_size = 100\n",
    "block_size = 312\n",
    "all_accuracies = []\n",
    "\n",
    "for start_idx in range(0, len(X_test), batch_size):\n",
    "    end_idx = min(start_idx + batch_size, len(X_test))\n",
    "\n",
    "   \n",
    "    batch_texts = X_test[start_idx:end_idx]\n",
    "    batch_labels = y_test[start_idx:end_idx]  \n",
    "\n",
    "\n",
    "    inputs = tokenizer(\n",
    "        list(batch_texts), \n",
    "        padding=True, \n",
    "        truncation=True,\n",
    "        max_length=block_size,\n",
    "        return_tensors=\"pt\"\n",
    "    )\n",
    "    with torch.no_grad():\n",
    "        outputs = model_pre(**inputs)\n",
    "\n",
    "    text_embeddings_torch = outputs.last_hidden_state.detach().cpu()  \n",
    "    text_embeddings_cupy = cp.asarray(text_embeddings_torch.numpy()) \n",
    "\n",
    "    logits_cupy = model.forward(text_embeddings_cupy)  \n",
    "\n",
    "   \n",
    "    logits_np = logits_cupy.get() \n",
    "\n",
    "    true_labels_np = numpy.argmax(batch_labels, axis=1)  \n",
    "    pred_labels_np = numpy.argmax(logits_np, axis=1)     \n",
    "\n",
    "    acc = accuracy_score(true_labels_np, pred_labels_np)\n",
    "    all_accuracies.append(acc)\n",
    "\n",
    "\n",
    "average_acc = numpy.mean(all_accuracies)\n",
    "print(\"Средняя точность:\", average_acc)\n"
   ]
  }
 ],
 "metadata": {
  "kernelspec": {
   "display_name": "neura",
   "language": "python",
   "name": "python3"
  },
  "language_info": {
   "codemirror_mode": {
    "name": "ipython",
    "version": 3
   },
   "file_extension": ".py",
   "mimetype": "text/x-python",
   "name": "python",
   "nbconvert_exporter": "python",
   "pygments_lexer": "ipython3",
   "version": "3.9.19"
  }
 },
 "nbformat": 4,
 "nbformat_minor": 2
}
